{
 "cells": [
  {
   "cell_type": "code",
   "execution_count": 1,
   "id": "2b5e0fe4-96eb-48a4-a689-a554b44eb814",
   "metadata": {},
   "outputs": [],
   "source": [
    "import pandas as pd\n",
    "from langdetect import detect, DetectorFactory"
   ]
  },
  {
   "cell_type": "code",
   "execution_count": 2,
   "id": "40b1904b-6b97-4c7f-9811-7e752a776aea",
   "metadata": {},
   "outputs": [],
   "source": [
    "DetectorFactory.seed = 0"
   ]
  },
  {
   "cell_type": "code",
   "execution_count": 3,
   "id": "532c43c8-b699-44f4-aabd-5d9d5d426761",
   "metadata": {},
   "outputs": [],
   "source": [
    "file_path = 'Artikelbewertung (1).xlsx'\n",
    "df = pd.read_excel(file_path)"
   ]
  },
  {
   "cell_type": "code",
   "execution_count": 4,
   "id": "5e5d509b-9837-43b7-abaf-3ee5fc7ab3a6",
   "metadata": {},
   "outputs": [
    {
     "name": "stdout",
     "output_type": "stream",
     "text": [
      "  Artikel-Nr.                                            Artikel  \\\n",
      "0     A247012    CHIC 4 BABY Kombi-Kinderwagen  PASSO Jeans grey   \n",
      "1     A291781                        BABYZEN Gestell YOYO2 Black   \n",
      "2     A293661  bugaboo Kombikinderwagen Cameleon 3 Plus Complete   \n",
      "3     A293661  bugaboo Kombikinderwagen Cameleon 3 Plus Complete   \n",
      "4     A293661  bugaboo Kombikinderwagen Cameleon 3 Plus Complete   \n",
      "\n",
      "   Lieferant-Nr.                 Lieferant   Einkäufer Auftrags-Nr.  \\\n",
      "0         903232          Chic 4 baby gmbh  ATHEPPHASY   1000096677   \n",
      "1          92005                 Stokke AS       FMAYS   2181044002   \n",
      "2          90296  Bugaboo international bv    CVUKOVIC    181368650   \n",
      "3          90296  Bugaboo international bv    CVUKOVIC   3181253703   \n",
      "4          90296  Bugaboo international bv    CVUKOVIC   4180501664   \n",
      "\n",
      "  Bewertungsdatum  Bewertung  \\\n",
      "0      15.01.2025          5   \n",
      "1      04.01.2025          5   \n",
      "2      03.02.2025          5   \n",
      "3      26.01.2025          5   \n",
      "4      06.02.2025          5   \n",
      "\n",
      "                                      Bewertungstext  \n",
      "0          Jeg er veldig fornøyd med produksjonen ❤️  \n",
      "1                                        Sehr schön   \n",
      "2  Der Kinderwagen war leider nicht mehr original...  \n",
      "3           Mir gefällt alles an diesem Kinderwagen.  \n",
      "4               Sehr bequem , ich kann nur empfehlen  \n"
     ]
    }
   ],
   "source": [
    "print(df.head())"
   ]
  },
  {
   "cell_type": "code",
   "execution_count": 5,
   "id": "ec56f03a-842c-4396-8bf8-987b36908d98",
   "metadata": {},
   "outputs": [],
   "source": [
    "df['Bewertungstext'] = df['Bewertungstext'].fillna('').astype(str)"
   ]
  },
  {
   "cell_type": "code",
   "execution_count": 6,
   "id": "17643607-8052-4ddd-a0fe-96dc57413c2d",
   "metadata": {},
   "outputs": [],
   "source": [
    "def safe_detect(text):\n",
    "    try:\n",
    "        return detect(text) if text.strip() else 'unknown'\n",
    "    except:\n",
    "        return 'error'"
   ]
  },
  {
   "cell_type": "code",
   "execution_count": 7,
   "id": "22d0e86b-b384-416a-9e49-0bb300b49dff",
   "metadata": {},
   "outputs": [
    {
     "name": "stdout",
     "output_type": "stream",
     "text": [
      "Bewertungstext\n",
      "de       247\n",
      "fr        61\n",
      "it        40\n",
      "en        29\n",
      "es        13\n",
      "no        12\n",
      "fi        12\n",
      "sv        11\n",
      "da        11\n",
      "id         6\n",
      "ca         6\n",
      "so         5\n",
      "nl         4\n",
      "ro         3\n",
      "pl         3\n",
      "pt         2\n",
      "cs         2\n",
      "af         1\n",
      "sq         1\n",
      "et         1\n",
      "error      1\n",
      "hr         1\n",
      "tl         1\n",
      "uk         1\n",
      "Name: count, dtype: int64\n"
     ]
    }
   ],
   "source": [
    "languages = df['Bewertungstext'].apply(safe_detect)\n",
    "lang_counts = languages.value_counts()\n",
    "print(lang_counts)"
   ]
  },
  {
   "cell_type": "code",
   "execution_count": null,
   "id": "9d84b7c3-f76f-45c5-b96e-f4c295101ffd",
   "metadata": {},
   "outputs": [],
   "source": []
  }
 ],
 "metadata": {
  "kernelspec": {
   "display_name": "Python 3 (ipykernel)",
   "language": "python",
   "name": "python3"
  },
  "language_info": {
   "codemirror_mode": {
    "name": "ipython",
    "version": 3
   },
   "file_extension": ".py",
   "mimetype": "text/x-python",
   "name": "python",
   "nbconvert_exporter": "python",
   "pygments_lexer": "ipython3",
   "version": "3.12.5"
  }
 },
 "nbformat": 4,
 "nbformat_minor": 5
}
