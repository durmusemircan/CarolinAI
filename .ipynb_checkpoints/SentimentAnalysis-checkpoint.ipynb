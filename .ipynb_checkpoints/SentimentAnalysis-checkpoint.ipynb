{
 "cells": [
  {
   "cell_type": "code",
   "execution_count": 1,
   "id": "95b1777e-acb0-43b9-8ba4-dfb4102d4dad",
   "metadata": {},
   "outputs": [],
   "source": [
    "import pandas as pd\n",
    "from transformers import pipeline, AutoTokenizer, AutoModelForSequenceClassification\n",
    "import matplotlib.pyplot as plt"
   ]
  },
  {
   "cell_type": "code",
   "execution_count": 2,
   "id": "aed44774-b4f6-4102-a88c-0068435d569b",
   "metadata": {},
   "outputs": [],
   "source": [
    "# 1. Daten laden\n",
    "dateipfad = 'Artikelbewertung (1).xlsx'\n",
    "df = pd.read_excel(dateipfad)\n",
    "df['Bewertungstext'] = df['Bewertungstext'].fillna('').astype(str)"
   ]
  },
  {
   "cell_type": "code",
   "execution_count": 3,
   "id": "149fa534-376d-4d39-91fb-ff58c2c33af4",
   "metadata": {},
   "outputs": [
    {
     "name": "stderr",
     "output_type": "stream",
     "text": [
      "Device set to use cpu\n"
     ]
    }
   ],
   "source": [
    "# 2. Multilinguales Sentiment-Modell laden\n",
    "modell_name = \"cardiffnlp/twitter-xlm-roberta-base-sentiment-multilingual\"\n",
    "tokenizer = AutoTokenizer.from_pretrained(modell_name)\n",
    "model = AutoModelForSequenceClassification.from_pretrained(modell_name)\n",
    "sentiment_pipeline = pipeline(\"sentiment-analysis\", model=model, tokenizer=tokenizer)"
   ]
  },
  {
   "cell_type": "code",
   "execution_count": 4,
   "id": "f28006ac-05d6-4672-86c9-bab44bc614b3",
   "metadata": {},
   "outputs": [],
   "source": [
    "# 3. Sentiment-Analyse Funktion\n",
    "def analysiere_sentiment(text):\n",
    "    try:\n",
    "        result = sentiment_pipeline(text[:512])[0]\n",
    "        label = result['label'].lower()  # 'positive', 'neutral', 'negative'\n",
    "        score = float(result['score'])\n",
    "        return {'label': label, 'score': score}\n",
    "    except Exception as e:\n",
    "        return {'label': 'fehler', 'score': 0.0}\n",
    "\n",
    "df['sentiment'] = df['Bewertungstext'].apply(analysiere_sentiment)\n",
    "df['sentiment_label'] = df['sentiment'].apply(lambda x: x['label'])\n",
    "df['sentiment_score'] = df['sentiment'].apply(lambda x: x['score'])\n",
    "\n",
    "def bewertung_to_sentiment(bewertung):\n",
    "    try:\n",
    "        if bewertung >= 4:\n",
    "            return \"positiv\"\n",
    "        elif bewertung == 3:\n",
    "            return \"neutral\"\n",
    "        elif bewertung < 3:\n",
    "            return \"negativ\"\n",
    "        else:\n",
    "            return \"unbekannt\"\n",
    "    except:\n",
    "        return \"unbekannt\"\n",
    "\n",
    "df['rating_sentiment'] = df['Bewertung'].apply(bewertung_to_sentiment)"
   ]
  },
  {
   "cell_type": "code",
   "execution_count": 5,
   "id": "62ccfe82-d951-4abc-9f1b-d1176819f0b6",
   "metadata": {},
   "outputs": [],
   "source": [
    "# 4. Produktbezogene Analyse (wie bisher)\n",
    "produkt_summary = []\n",
    "for artikel, group in df.groupby('Artikel'):\n",
    "    total = len(group)\n",
    "    ai_pos = group[group['sentiment_label'] == 'positive']\n",
    "    rating_pos = group[group['rating_sentiment'] == 'positiv']\n",
    "    ai_happy_pct = round(100 * len(ai_pos) / total, 2) if total else 0\n",
    "    rating_happy_pct = round(100 * len(rating_pos) / total, 2) if total else 0\n",
    "    ort_punkt = round(group['Bewertung'].mean(), 2) if total else 0\n",
    "\n",
    "    en_positiv = \"\"\n",
    "    en_negativ = \"\"\n",
    "    valid_scores = group.dropna(subset=['sentiment_score'])\n",
    "    if not valid_scores.empty:\n",
    "        best_row = valid_scores.loc[valid_scores['sentiment_score'].idxmax()]\n",
    "        worst_row = valid_scores.loc[valid_scores['sentiment_score'].idxmin()]\n",
    "        en_positiv = str(best_row['Bewertungstext'])\n",
    "        en_negativ = str(worst_row['Bewertungstext'])\n",
    "\n",
    "    produkt_summary.append({\n",
    "        'Produkt': str(artikel),\n",
    "        'Anzahl Bewertungen': total,\n",
    "        'Zufriedenheit Kommentare (%)': ai_happy_pct,\n",
    "        'Zufriedenheit Sterne (%)': rating_happy_pct,\n",
    "        'Ø Bewertung': ort_punkt,\n",
    "        'Positivster Kommentar': en_positiv,\n",
    "        'Negativster Kommentar': en_negativ\n",
    "    })\n",
    "\n",
    "produkt_df = pd.DataFrame(produkt_summary)"
   ]
  },
  {
   "cell_type": "code",
   "execution_count": 6,
   "id": "566e58af-59bd-482a-84e0-f29d8893a91f",
   "metadata": {},
   "outputs": [],
   "source": [
    "# 5. GESAMTE Markt/Sammlung-Analyse (ALLES ZUSAMMEN)\n",
    "gesamt_ai_anzahl = len(df[df['sentiment_label'] == 'positive'])\n",
    "gesamt_user_anzahl = len(df[df['rating_sentiment'] == 'positiv'])\n",
    "gesamt_anzahl = len(df)\n",
    "\n",
    "gesamt_ai_glueck = round(100 * gesamt_ai_anzahl / gesamt_anzahl, 2) if gesamt_anzahl else 0\n",
    "gesamt_user_glueck = round(100 * gesamt_user_anzahl / gesamt_anzahl, 2) if gesamt_anzahl else 0\n",
    "gesamt_ø_bewertung = round(df['Bewertung'].mean(), 2) if gesamt_anzahl else 0"
   ]
  },
  {
   "cell_type": "code",
   "execution_count": 7,
   "id": "1c63c012-cc51-4a5e-8e94-0412b8b266b6",
   "metadata": {},
   "outputs": [],
   "source": [
    "# 6. RANKINGS für Produkte (Top/Flop nach verschiedenen Metriken)\n",
    "# Top Zufriedenheit Kommentare Ranking\n",
    "ranking_ai = produkt_df.sort_values(\"Zufriedenheit Kommentare (%)\", ascending=False).reset_index(drop=True)\n",
    "# Top Zufriedenheit Sterne Ranking\n",
    "ranking_user = produkt_df.sort_values(\"Zufriedenheit Sterne (%)\", ascending=False).reset_index(drop=True)\n",
    "# Top Ø Bewertung\n",
    "ranking_bewertung = produkt_df.sort_values(\"Ø Bewertung\", ascending=False).reset_index(drop=True)"
   ]
  },
  {
   "cell_type": "code",
   "execution_count": 8,
   "id": "eef0e0e3-9d17-45a5-9cb5-480a45f6a882",
   "metadata": {},
   "outputs": [
    {
     "data": {
      "image/png": "[encoded data removed]",
      "text/plain": [
       "<Figure size 700x400 with 1 Axes>"
      ]
     },
     "metadata": {},
     "output_type": "display_data"
    }
   ],
   "source": [
    "# 7. VISUALISIERUNG: Gesamtverteilung\n",
    "plt.figure(figsize=(7, 4))\n",
    "df['sentiment_label'].value_counts(normalize=True).plot(kind='bar', color=[\"#62c370\", \"#e1eec3\", \"#f76c6c\"])\n",
    "plt.title(\"Gesamte KI-Sentiment-Verteilung\")\n",
    "plt.xlabel(\"Sentiment (KI)\")\n",
    "plt.ylabel(\"Anteil\")\n",
    "plt.xticks(rotation=0)\n",
    "plt.show()"
   ]
  },
  {
   "cell_type": "code",
   "execution_count": 9,
   "id": "aa9e3716-3305-4a77-98f6-1b9e69420343",
   "metadata": {},
   "outputs": [],
   "source": [
    "df.to_pickle('alle_kommentare.pkl')\n",
    "produkt_df.to_pickle('produkt_uebersicht.pkl')"
   ]
  },
  {
   "cell_type": "code",
   "execution_count": null,
   "id": "b63a5b3e-70e9-4d6a-bcce-9bfd80021a2d",
   "metadata": {},
   "outputs": [],
   "source": []
  }
 ],
 "metadata": {
  "kernelspec": {
   "display_name": "Python 3 (ipykernel)",
   "language": "python",
   "name": "python3"
  },
  "language_info": {
   "codemirror_mode": {
    "name": "ipython",
    "version": 3
   },
   "file_extension": ".py",
   "mimetype": "text/x-python",
   "name": "python",
   "nbconvert_exporter": "python",
   "pygments_lexer": "ipython3",
   "version": "3.12.5"
  }
 },
 "nbformat": 4,
 "nbformat_minor": 5
}
