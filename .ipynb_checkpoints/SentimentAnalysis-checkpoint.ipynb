{
 "cells": [
  {
   "cell_type": "code",
   "execution_count": 11,
   "id": "95b1777e-acb0-43b9-8ba4-dfb4102d4dad",
   "metadata": {},
   "outputs": [],
   "source": [
    "import pandas as pd\n",
    "from transformers import pipeline, AutoTokenizer, AutoModelForSequenceClassification"
   ]
  },
  {
   "cell_type": "code",
   "execution_count": 12,
   "id": "aed44774-b4f6-4102-a88c-0068435d569b",
   "metadata": {},
   "outputs": [],
   "source": [
    "file_path = 'Artikelbewertung (1).xlsx'\n",
    "df = pd.read_excel(file_path)\n",
    "df['Bewertungstext'] = df['Bewertungstext'].fillna('').astype(str)"
   ]
  },
  {
   "cell_type": "code",
   "execution_count": 13,
   "id": "149fa534-376d-4d39-91fb-ff58c2c33af4",
   "metadata": {},
   "outputs": [
    {
     "name": "stderr",
     "output_type": "stream",
     "text": [
      "Device set to use cpu\n"
     ]
    }
   ],
   "source": [
    "model_name = \"cardiffnlp/twitter-xlm-roberta-base-sentiment-multilingual\"\n",
    "tokenizer = AutoTokenizer.from_pretrained(model_name)\n",
    "model = AutoModelForSequenceClassification.from_pretrained(model_name)\n",
    "sentiment_pipeline = pipeline(\"sentiment-analysis\", model=model, tokenizer=tokenizer)"
   ]
  },
  {
   "cell_type": "code",
   "execution_count": 14,
   "id": "f28006ac-05d6-4672-86c9-bab44bc614b3",
   "metadata": {},
   "outputs": [],
   "source": [
    "def analyze_sentiment(text):\n",
    "    try:\n",
    "        result = sentiment_pipeline(text[:512])[0]\n",
    "        label_map = {'LABEL_0': 'Negatif', 'LABEL_1': 'Nötr', 'LABEL_2': 'Pozitif'}\n",
    "        label = label_map.get(result['label'], result['label'])\n",
    "        return {'label': label, 'score': float(result['score'])}\n",
    "    except Exception as e:\n",
    "        return {'label': 'Hata', 'score': 0.0}\n",
    "\n",
    "df['sentiment'] = df['Bewertungstext'].apply(analyze_sentiment)\n",
    "df['sentiment_label'] = df['sentiment'].apply(lambda x: x['label'])\n",
    "df['sentiment_score'] = df['sentiment'].apply(lambda x: x['score'])"
   ]
  },
  {
   "cell_type": "code",
   "execution_count": 15,
   "id": "62ccfe82-d951-4abc-9f1b-d1176819f0b6",
   "metadata": {},
   "outputs": [],
   "source": [
    "def rating_to_sentiment(rating):\n",
    "    try:\n",
    "        if rating >= 4:\n",
    "            return \"Pozitif\"\n",
    "        elif rating == 3:\n",
    "            return \"Nötr\"\n",
    "        elif rating < 3:\n",
    "            return \"Negatif\"\n",
    "        else:\n",
    "            return \"no info\"\n",
    "    except:\n",
    "        return \"no info\"\n",
    "\n",
    "df['rating_sentiment'] = df['Bewertung'].apply(rating_to_sentiment)"
   ]
  },
  {
   "cell_type": "code",
   "execution_count": 7,
   "id": "566e58af-59bd-482a-84e0-f29d8893a91f",
   "metadata": {},
   "outputs": [],
   "source": [
    "summary = []\n",
    "for artikel, group in df.groupby('Artikel'):\n",
    "    total = len(group)\n",
    "    ai_pos = group[group['sentiment_label'].astype(str).str.lower() == 'positive']\n",
    "    rating_pos = group[group['rating_sentiment'].astype(str).str.lower() == 'pozitif']\n",
    "    ai_happy_pct = round(100 * len(ai_pos) / total, 2) if total else 0\n",
    "    rating_happy_pct = round(100 * len(rating_pos) / total, 2) if total else 0\n",
    "    ort_puan = round(group['Bewertung'].mean(), 2) if total else 0\n",
    "\n",
    "    # Eğer grupta hiç yorum yoksa, güvenli şekilde boş değer ata:\n",
    "    if total == 0 or group['sentiment_score'].isnull().all():\n",
    "        en_pozitif_yorum = \"\"\n",
    "        en_negatif_yorum = \"\"\n",
    "    else:\n",
    "        # Sadece geçerli (NaN olmayan) skorlar üzerinde işlem yap\n",
    "        valid_scores = group.dropna(subset=['sentiment_score'])\n",
    "        if valid_scores.empty:\n",
    "            en_pozitif_yorum = \"\"\n",
    "            en_negatif_yorum = \"\"\n",
    "        else:\n",
    "            best_row = valid_scores.loc[valid_scores['sentiment_score'].idxmax()]\n",
    "            worst_row = valid_scores.loc[valid_scores['sentiment_score'].idxmin()]\n",
    "            en_pozitif_yorum = best_row['Bewertungstext']\n",
    "            en_negatif_yorum = worst_row['Bewertungstext']\n",
    "\n",
    "    summary.append({\n",
    "        'Ürün': str(artikel),\n",
    "        'Yorum Sayısı': total,\n",
    "        'AI Mutluluk %': ai_happy_pct,\n",
    "        'Puan Mutluluk %': rating_happy_pct,\n",
    "        'Ortalama Puan': ort_puan,\n",
    "        'En Pozitif Yorum': en_pozitif_yorum,\n",
    "        'En Negatif Yorum': en_negatif_yorum\n",
    "    })\n",
    "\n",
    "summary_df = pd.DataFrame(summary)\n",
    "df.to_pickle('tum_yorumlar.pkl')\n",
    "summary_df.to_pickle('urun_ozet.pkl')"
   ]
  }
 ],
 "metadata": {
  "kernelspec": {
   "display_name": "Python 3 (ipykernel)",
   "language": "python",
   "name": "python3"
  },
  "language_info": {
   "codemirror_mode": {
    "name": "ipython",
    "version": 3
   },
   "file_extension": ".py",
   "mimetype": "text/x-python",
   "name": "python",
   "nbconvert_exporter": "python",
   "pygments_lexer": "ipython3",
   "version": "3.12.5"
  }
 },
 "nbformat": 4,
 "nbformat_minor": 5
}
